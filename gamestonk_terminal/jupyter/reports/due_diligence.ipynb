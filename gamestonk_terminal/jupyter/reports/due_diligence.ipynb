{
 "cells": [
  {
   "cell_type": "code",
   "execution_count": null,
   "id": "phantom-facility",
   "metadata": {},
   "outputs": [],
   "source": [
    "# Import most generic modules\n",
    "import importlib\n",
    "import pathlib\n",
    "import os\n",
    "import sys\n",
    "from datetime import datetime, timedelta\n",
    "import pandas as pd\n",
    "from IPython.display import display, Markdown\n",
    "import warnings\n",
    "\n",
    "warnings.filterwarnings(\"ignore\")\n",
    "module_path = os.path.abspath(os.path.join(\"../..\"))\n",
    "\n",
    "if module_path not in sys.path:\n",
    "    sys.path.append(module_path)"
   ]
  },
  {
   "cell_type": "code",
   "execution_count": null,
   "id": "compact-count",
   "metadata": {
    "tags": [
     "parameters"
    ]
   },
   "outputs": [],
   "source": [
    "# Parameters that will be replaced when calling this notebook\n",
    "ticker = \"AAPL\"\n",
    "\n",
    "report_name = (\n",
    "    f\"{datetime.now().strftime('%Y%m%d_%H%M%S')}_due_diligence_{ticker.upper()}\"\n",
    ")"
   ]
  },
  {
   "cell_type": "code",
   "execution_count": null,
   "id": "possible-constraint",
   "metadata": {},
   "outputs": [],
   "source": [
    "display(\n",
    "    Markdown(\n",
    "        f\"# {ticker.upper()} - Due Diligence - {datetime.now().strftime('%Y/%m/%d %H:%M:%S')}\"\n",
    "    )\n",
    ")"
   ]
  },
  {
   "cell_type": "code",
   "execution_count": null,
   "id": "3a473d25",
   "metadata": {},
   "outputs": [],
   "source": [
    "base_path = os.path.abspath(os.path.join(\".\"))\n",
    "report_cache_dir = pathlib.Path(base_path, \"stored\")\n",
    "\n",
    "if not os.path.isdir(report_cache_dir):\n",
    "    print(\"Reports data directory not found.\")\n",
    "    print(f\"Creating {report_cache_dir}\")\n",
    "    os.mkdir(report_cache_dir)\n",
    "else:\n",
    "    print(f\"Found reports directory {report_cache_dir}\")"
   ]
  },
  {
   "cell_type": "markdown",
   "id": "temporal-clerk",
   "metadata": {},
   "source": [
    "## Candle View"
   ]
  },
  {
   "cell_type": "code",
   "execution_count": null,
   "id": "d783ed59-1fb2-44f2-b4b0-bfdfee9afcb6",
   "metadata": {},
   "outputs": [],
   "source": [
    "from gamestonk_terminal.stocks import stocks_helper\n",
    "\n",
    "df_stock_cache = pathlib.Path(report_cache_dir, f\"{ticker}_stock_data.pkl\")\n",
    "if os.path.isfile(df_stock_cache):\n",
    "    print(f\"Found a cache file. Loading {df_stock_cache}\")\n",
    "    df_stock = pd.read_pickle(df_stock_cache)\n",
    "else:\n",
    "    print(\"Cache file not found. Getting data.\")\n",
    "    df_stock = stocks_helper.load_ticker(\n",
    "        ticker, (datetime.now() - timedelta(days=180)).strftime(\"%Y-%m-%d\")\n",
    "    )\n",
    "    df_stock = stocks_helper.find_trendline(df_stock, \"OC_High\", \"high\")\n",
    "    df_stock = stocks_helper.find_trendline(df_stock, \"OC_Low\", \"low\")\n",
    "    print(f\"Saving cache file {ticker}_stock_data.pkl\")\n",
    "    df_stock.to_pickle(df_stock_cache)"
   ]
  },
  {
   "cell_type": "code",
   "execution_count": null,
   "id": "transsexual-trance",
   "metadata": {},
   "outputs": [],
   "source": [
    "import mplfinance as mpf\n",
    "\n",
    "mc = mpf.make_marketcolors(\n",
    "    up=\"green\", down=\"red\", edge=\"black\", wick=\"black\", volume=\"in\", ohlc=\"i\"\n",
    ")\n",
    "s = mpf.make_mpf_style(marketcolors=mc, gridstyle=\":\", y_on_right=True)\n",
    "\n",
    "ap0 = []\n",
    "\n",
    "if \"OC_High_trend\" in df_stock.columns:\n",
    "    ap0.append(\n",
    "        mpf.make_addplot(df_stock[\"OC_High_trend\"], color=\"g\"),\n",
    "    )\n",
    "\n",
    "if \"OC_Low_trend\" in df_stock.columns:\n",
    "    ap0.append(\n",
    "        mpf.make_addplot(df_stock[\"OC_Low_trend\"], color=\"b\"),\n",
    "    )\n",
    "\n",
    "mpf.plot(\n",
    "    df_stock,\n",
    "    type=\"candle\",\n",
    "    mav=(20, 50, 200),\n",
    "    volume=True,\n",
    "    addplot=ap0,\n",
    "    xrotation=0,\n",
    "    style=s,\n",
    "    figratio=(10, 7),\n",
    "    figscale=2.00,\n",
    "    update_width_config=dict(\n",
    "        candle_linewidth=1.0, candle_width=0.8, volume_linewidth=1.0\n",
    "    ),\n",
    ")"
   ]
  },
  {
   "cell_type": "markdown",
   "id": "political-intake",
   "metadata": {},
   "source": [
    "## Analyst Targets"
   ]
  },
  {
   "cell_type": "code",
   "execution_count": null,
   "id": "numerous-begin",
   "metadata": {},
   "outputs": [],
   "source": [
    "from gamestonk_terminal.stocks.due_diligence import finviz_view\n",
    "\n",
    "try:\n",
    "    finviz_view.analyst(ticker=ticker, export=\"\")\n",
    "except Exception as e:\n",
    "    print(e)"
   ]
  },
  {
   "cell_type": "markdown",
   "id": "3cfd302c",
   "metadata": {},
   "source": [
    "## Fundamentals"
   ]
  },
  {
   "cell_type": "markdown",
   "id": "written-lease",
   "metadata": {},
   "source": [
    "### Annual Income Statement"
   ]
  },
  {
   "cell_type": "code",
   "execution_count": null,
   "id": "played-vancouver",
   "metadata": {},
   "outputs": [],
   "source": [
    "from gamestonk_terminal.stocks.fundamental_analysis import av_view\n",
    "\n",
    "av_view.display_income_statement(ticker, limit=1)"
   ]
  },
  {
   "cell_type": "markdown",
   "id": "smooth-forge",
   "metadata": {},
   "source": [
    "### Quarterly Income Statement"
   ]
  },
  {
   "cell_type": "code",
   "execution_count": null,
   "id": "juvenile-throw",
   "metadata": {},
   "outputs": [],
   "source": [
    "from gamestonk_terminal.stocks.fundamental_analysis import av_view\n",
    "\n",
    "av_view.display_income_statement(ticker, limit=1, quarterly=True)"
   ]
  },
  {
   "cell_type": "markdown",
   "id": "passive-nerve",
   "metadata": {},
   "source": [
    "### Annual Balance Sheet"
   ]
  },
  {
   "cell_type": "code",
   "execution_count": null,
   "id": "nominated-empire",
   "metadata": {},
   "outputs": [],
   "source": [
    "from gamestonk_terminal.stocks.fundamental_analysis import av_view\n",
    "\n",
    "av_view.display_balance_sheet(ticker, limit=1)"
   ]
  },
  {
   "cell_type": "markdown",
   "id": "special-bargain",
   "metadata": {},
   "source": [
    "### Annual Cash Flow"
   ]
  },
  {
   "cell_type": "code",
   "execution_count": null,
   "id": "focused-thanks",
   "metadata": {},
   "outputs": [],
   "source": [
    "from gamestonk_terminal.stocks.fundamental_analysis import av_view\n",
    "\n",
    "av_view.display_cash_flow(ticker, limit=1)"
   ]
  },
  {
   "cell_type": "code",
   "execution_count": null,
   "id": "sought-phase",
   "metadata": {},
   "outputs": [],
   "source": [
    "!jupyter nbconvert {report_name + \".ipynb\"} --to html --no-input"
   ]
  }
 ],
 "metadata": {
  "celltoolbar": "Tags",
  "interpreter": {
   "hash": "bdefb52be37b6ab26a82d292d220aaeebafdd00af58c431a8f759eb373ff9ec1"
  },
  "kernelspec": {
   "display_name": "Python 3.8.12 ('gst')",
   "language": "python",
   "name": "python3"
  },
  "language_info": {
   "codemirror_mode": {
    "name": "ipython",
    "version": 3
   },
   "file_extension": ".py",
   "mimetype": "text/x-python",
   "name": "python",
   "nbconvert_exporter": "python",
   "pygments_lexer": "ipython3",
   "version": "3.9.10"
  }
 },
 "nbformat": 4,
 "nbformat_minor": 5
}

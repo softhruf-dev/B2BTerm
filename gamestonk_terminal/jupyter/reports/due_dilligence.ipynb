{
 "cells": [
  {
   "cell_type": "markdown",
   "id": "70ba2c8a",
   "metadata": {},
   "source": [
    "## Notebook setup"
   ]
  },
  {
   "cell_type": "code",
   "execution_count": null,
   "id": "driven-billion",
   "metadata": {},
   "outputs": [],
   "source": [
    "import io\n",
    "import warnings\n",
    "from datetime import datetime, timedelta\n",
    "\n",
    "import matplotlib.pyplot as plt\n",
    "import matplotlib_inline.backend_inline\n",
    "\n",
    "from gamestonk_terminal import api as gst\n",
    "from gamestonk_terminal.helper_classes import TerminalStyle\n",
    "\n",
    "%matplotlib inline\n",
    "matplotlib_inline.backend_inline.set_matplotlib_formats(\"svg\")\n",
    "warnings.filterwarnings(\"ignore\")"
   ]
  },
  {
   "cell_type": "code",
   "execution_count": null,
   "id": "c3fe7db5-ec6a-42cf-9e66-52dc1de22370",
   "metadata": {},
   "outputs": [],
   "source": [
    "try:\n",
    "    theme = TerminalStyle(\"light\", \"light\", \"light\")\n",
    "except:\n",
    "    pass\n",
    "stylesheet = gst.widgets.html_report_stylesheet()"
   ]
  },
  {
   "cell_type": "markdown",
   "id": "807fda4e",
   "metadata": {},
   "source": [
    "## Select Ticker"
   ]
  },
  {
   "cell_type": "code",
   "execution_count": null,
   "id": "intended-sherman",
   "metadata": {
    "tags": [
     "parameters"
    ]
   },
   "outputs": [],
   "source": [
    "# Parameters that will be replaced when calling this notebook\n",
    "ticker = \"AMC\"\n",
    "report_name = \"\""
   ]
  },
  {
   "cell_type": "code",
   "execution_count": null,
   "id": "1be26dae-cafe-4a22-80aa-eff296fc1a9b",
   "metadata": {},
   "outputs": [],
   "source": [
    "ticker_data = gst.stocks.load(ticker, start=datetime.now() - timedelta(days=365))\n",
    "ticker_data = gst.stocks.process_candle(ticker_data)\n",
    "\n",
    "report_title = (f\"{ticker.upper()} Due Diligence report ({datetime.now().strftime('%Y-%m-%d %H:%M:%S')})\")\n",
    "report_title"
   ]
  },
  {
   "cell_type": "code",
   "execution_count": null,
   "id": "e3b15d6f-dc9e-4f97-aa07-37d949a4e4bb",
   "metadata": {},
   "outputs": [],
   "source": [
    "overview = gst.stocks.fa.models.yahoo_finance.get_info(ticker=ticker).transpose()[\n",
    "    \"Long business summary\"\n",
    "][0]\n",
    "overview"
   ]
  },
  {
   "cell_type": "markdown",
   "id": "f8a0d747",
   "metadata": {},
   "source": [
    "## Data"
   ]
  },
  {
   "cell_type": "code",
   "execution_count": null,
   "id": "aca4b6ef",
   "metadata": {},
   "outputs": [],
   "source": [
    "(\n",
    "    df_year_estimates,\n",
    "    df_quarter_earnings,\n",
    "    df_quarter_revenues,\n",
    ") = gst.stocks.dd.models.business_insider.get_estimates(ticker)"
   ]
  },
  {
   "cell_type": "markdown",
   "id": "b9c8feff",
   "metadata": {
    "tags": []
   },
   "source": [
    "### 1. Yearly Estimates"
   ]
  },
  {
   "cell_type": "code",
   "execution_count": null,
   "id": "c0f0a1ca",
   "metadata": {},
   "outputs": [],
   "source": [
    "display_year = sorted(df_year_estimates.columns.tolist())[:3]\n",
    "df_year_estimates = df_year_estimates[display_year].head(5)\n",
    "df_year_estimates"
   ]
  },
  {
   "cell_type": "markdown",
   "id": "64d3d490",
   "metadata": {
    "tags": []
   },
   "source": [
    "### 2. Quarterly Earnings"
   ]
  },
  {
   "cell_type": "code",
   "execution_count": null,
   "id": "fde46353",
   "metadata": {},
   "outputs": [],
   "source": [
    "df_quarter_earnings"
   ]
  },
  {
   "cell_type": "markdown",
   "id": "d13a1e5e",
   "metadata": {
    "tags": []
   },
   "source": [
    "### 3. Quarterly Revenues"
   ]
  },
  {
   "cell_type": "code",
   "execution_count": null,
   "id": "51dfd9d2",
   "metadata": {},
   "outputs": [],
   "source": [
    "df_quarter_revenues"
   ]
  },
  {
   "cell_type": "markdown",
   "id": "6303e520",
   "metadata": {
    "tags": []
   },
   "source": [
    "### 4. SEC Filings"
   ]
  },
  {
   "cell_type": "code",
   "execution_count": null,
   "id": "3022130e",
   "metadata": {},
   "outputs": [],
   "source": [
    "df_sec_filings = gst.stocks.dd.models.marketwatch.get_sec_filings(ticker)[\n",
    "    [\"Type\", \"Category\", \"Link\"]\n",
    "].head(5)\n",
    "df_sec_filings"
   ]
  },
  {
   "cell_type": "markdown",
   "id": "1e201003",
   "metadata": {
    "tags": []
   },
   "source": [
    "### 5. Analyst Ratings"
   ]
  },
  {
   "cell_type": "code",
   "execution_count": null,
   "id": "4662b1ac",
   "metadata": {},
   "outputs": [],
   "source": [
    "df_analyst = gst.stocks.dd.models.finviz.get_analyst_data(ticker)\n",
    "df_analyst[\"target_to\"] = df_analyst[\"target_to\"].combine_first(df_analyst[\"target\"])\n",
    "df_analyst = df_analyst[[\"category\", \"analyst\", \"rating\", \"target_to\"]].rename(\n",
    "    columns={\n",
    "        \"category\": \"Category\",\n",
    "        \"analyst\": \"Analyst\",\n",
    "        \"rating\": \"Rating\",\n",
    "        \"target_to\": \"Price Target\",\n",
    "    }\n",
    ")\n",
    "df_analyst"
   ]
  },
  {
   "cell_type": "markdown",
   "id": "ade589d6-d80f-4651-acb7-929943114ef0",
   "metadata": {},
   "source": [
    "## Plots"
   ]
  },
  {
   "cell_type": "markdown",
   "id": "621ed931-57e9-4ca6-afe8-8ef278122c77",
   "metadata": {},
   "source": [
    "### 1. Price history"
   ]
  },
  {
   "cell_type": "code",
   "execution_count": null,
   "id": "394668e1-1158-4a2b-8a38-04c72a6abdd6",
   "metadata": {},
   "outputs": [],
   "source": [
    "fig, (candles, volume) = plt.subplots(nrows=2, ncols=1, figsize=(5, 3), dpi=150)\n",
    "gst.stocks.candle(\n",
    "    s_ticker=ticker,\n",
    "    df_stock=ticker_data,\n",
    "    use_matplotlib=True,\n",
    "    external_axes=[candles, volume],\n",
    ")\n",
    "candles.set_xticklabels(\"\")\n",
    "fig.tight_layout()\n",
    "\n",
    "f = io.BytesIO()\n",
    "fig.savefig(f, format=\"svg\")\n",
    "price_chart = f.getvalue().decode(\"utf-8\")"
   ]
  },
  {
   "cell_type": "markdown",
   "id": "bf07a909",
   "metadata": {},
   "source": [
    "### 2. Price Target"
   ]
  },
  {
   "cell_type": "code",
   "execution_count": null,
   "id": "900686a3",
   "metadata": {},
   "outputs": [],
   "source": [
    "fig, ax = plt.subplots(figsize=(8, 3), dpi=150)\n",
    "gst.stocks.dd.pt(\n",
    "    ticker=ticker,\n",
    "    start=\"2021-10-25\",\n",
    "    interval=\"1440min\",\n",
    "    stock=ticker_data,\n",
    "    num=10,\n",
    "    raw=False,\n",
    "    external_axes=[ax],\n",
    ")\n",
    "fig.tight_layout()\n",
    "f = io.BytesIO()\n",
    "fig.savefig(f, format=\"svg\")\n",
    "price_target_chart = f.getvalue().decode(\"utf-8\")"
   ]
  },
  {
   "cell_type": "markdown",
   "id": "63c0538c",
   "metadata": {},
   "source": [
    "### 3. Ratings over time"
   ]
  },
  {
   "cell_type": "code",
   "execution_count": null,
   "id": "f3733ff2",
   "metadata": {},
   "outputs": [],
   "source": [
    "fig, ax = plt.subplots(figsize=(8, 3), dpi=150)\n",
    "gst.stocks.dd.rot(\n",
    "    ticker=ticker,\n",
    "    num=10,\n",
    "    raw=False,\n",
    "    export=\"\",\n",
    "    external_axes=[ax],\n",
    ")\n",
    "fig.tight_layout()\n",
    "f = io.BytesIO()\n",
    "fig.savefig(f, format=\"svg\")\n",
    "ratings_over_time_chart = f.getvalue().decode(\"utf-8\")"
   ]
  },
  {
   "cell_type": "markdown",
   "id": "ac501a32-124d-4d21-aae1-a8d147bb1071",
   "metadata": {},
   "source": [
    "## Render the report template to a file"
   ]
  },
  {
   "cell_type": "code",
   "execution_count": null,
   "id": "mounted-phase",
   "metadata": {},
   "outputs": [],
   "source": [
    "body = \"\""
   ]
  },
  {
   "cell_type": "code",
   "execution_count": null,
   "id": "abfe37e4-ea38-42c3-8fb5-7cceb233fb12",
   "metadata": {},
   "outputs": [],
   "source": [
    "# Title\n",
    "body += gst.widgets.h(1, report_title)\n",
    "\n",
    "body += gst.widgets.h(2, \"Overview\")\n",
    "body += gst.widgets.row([gst.widgets.p(overview)])\n",
    "\n",
    "\n",
    "# Analysts ratings\n",
    "body += gst.widgets.h(2, \"Analyst assessments\")\n",
    "body += gst.widgets.row([price_target_chart])\n",
    "body += gst.widgets.row([df_analyst.to_html()])\n",
    "body += gst.widgets.row([ratings_over_time_chart])\n",
    "\n",
    "# Price history and yearly estimates\n",
    "body += gst.widgets.row(\n",
    "    [\n",
    "        gst.widgets.h(3, \"Price history\") + price_chart,\n",
    "        gst.widgets.h(3, \"Estimates\") + df_year_estimates.head().to_html(),\n",
    "    ]\n",
    ")\n",
    "\n",
    "# Earnings and revenues\n",
    "body += gst.widgets.h(2, \"Earnings and revenues\")\n",
    "body += gst.widgets.row([df_quarter_earnings.head().to_html()])\n",
    "body += gst.widgets.row([df_quarter_revenues.head().to_html()])\n",
    "\n",
    "# Sec filings and insider trading\n",
    "body += gst.widgets.h(2, \"SEC filings\")\n",
    "body += gst.widgets.row([df_sec_filings.to_html()])"
   ]
  },
  {
   "cell_type": "code",
   "execution_count": null,
   "id": "eb26492f-d13f-4302-b36d-ea8ee0020f82",
   "metadata": {},
   "outputs": [],
   "source": [
    "report = gst.widgets.html_report(title=report_name, stylesheet=stylesheet, body=body)"
   ]
  },
  {
   "cell_type": "code",
   "execution_count": null,
   "id": "ee07c30c-9b38-4035-b128-20b7c9989951",
   "metadata": {},
   "outputs": [],
   "source": [
    "# to save the results\n",
    "with open(report_name + \".html\", \"w\") as fh:\n",
    "    fh.write(report)"
   ]
  },
  {
   "cell_type": "code",
   "execution_count": null,
   "id": "34991096-bc3a-4134-b519-aa3a490abe98",
   "metadata": {},
   "outputs": [],
   "source": []
  }
 ],
 "metadata": {
  "celltoolbar": "Tags",
  "interpreter": {
   "hash": "31090e8428bc3cbe850895ffb75aca3a30f914a21038b56ab61f04d2ddd7301b"
  },
  "kernelspec": {
   "display_name": "Python 3 (ipykernel)",
   "language": "python",
   "name": "python3"
  },
  "language_info": {
   "codemirror_mode": {
    "name": "ipython",
    "version": 3
   },
   "file_extension": ".py",
   "mimetype": "text/x-python",
   "name": "python",
   "nbconvert_exporter": "python",
   "pygments_lexer": "ipython3",
   "version": "3.8.12"
  }
 },
 "nbformat": 4,
 "nbformat_minor": 5
}

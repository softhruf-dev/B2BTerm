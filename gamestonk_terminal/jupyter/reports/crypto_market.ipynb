{
 "cells": [
  {
   "cell_type": "code",
   "execution_count": null,
   "id": "elect-highway",
   "metadata": {},
   "outputs": [],
   "source": [
    "# Import most generic modules\n",
    "import importlib\n",
    "import pathlib\n",
    "import os\n",
    "import sys\n",
    "from datetime import datetime, timedelta\n",
    "import pandas as pd\n",
    "from IPython.display import display, Markdown\n",
    "import warnings\n",
    "\n",
    "warnings.filterwarnings(\"ignore\")\n",
    "module_path = os.path.abspath(os.path.join(\"../..\"))\n",
    "\n",
    "if module_path not in sys.path:\n",
    "    sys.path.append(module_path)"
   ]
  },
  {
   "cell_type": "code",
   "execution_count": null,
   "id": "fatty-colony",
   "metadata": {
    "tags": [
     "parameters"
    ]
   },
   "outputs": [],
   "source": [
    "report_name = f\"{datetime.now().strftime('%Y%m%d_%H%M%S')}_crypto_market\""
   ]
  },
  {
   "cell_type": "code",
   "execution_count": null,
   "id": "medieval-majority",
   "metadata": {},
   "outputs": [],
   "source": [
    "display(Markdown(f\"# Crypto Market - {datetime.now().strftime('%Y/%m/%d %H:%M:%S')}\"))"
   ]
  },
  {
   "cell_type": "markdown",
   "id": "basic-sucking",
   "metadata": {},
   "source": [
    "## Bitcoin Chart"
   ]
  },
  {
   "cell_type": "code",
   "execution_count": null,
   "id": "318022a0",
   "metadata": {},
   "outputs": [],
   "source": [
    "from gamestonk_terminal.cryptocurrency import cryptocurrency_helpers\n",
    "\n",
    "cryptocurrency_helpers.plot_chart(\n",
    "    coin=\"btc-bitcoin\", source=\"cp\", currency=\"USD\", days=60\n",
    ")"
   ]
  },
  {
   "cell_type": "markdown",
   "id": "animal-titanium",
   "metadata": {},
   "source": [
    "## Global Market Information"
   ]
  },
  {
   "cell_type": "code",
   "execution_count": null,
   "id": "artistic-stewart",
   "metadata": {},
   "outputs": [],
   "source": [
    "from gamestonk_terminal.cryptocurrency.overview import coinpaprika_view\n",
    "\n",
    "coinpaprika_view.display_global_market(export=\"\")"
   ]
  },
  {
   "cell_type": "markdown",
   "id": "sharing-cutting",
   "metadata": {},
   "source": [
    "## Hot news"
   ]
  },
  {
   "cell_type": "code",
   "execution_count": null,
   "id": "equal-centre",
   "metadata": {},
   "outputs": [],
   "source": [
    "from gamestonk_terminal.cryptocurrency.overview import pycoingecko_view\n",
    "\n",
    "pycoingecko_view.display_news(\n",
    "    top=10, sortby=\"Posted\", descend=True, links=False, export=\"\"\n",
    ")"
   ]
  },
  {
   "cell_type": "markdown",
   "id": "twelve-visiting",
   "metadata": {},
   "source": [
    "## Top coins market information"
   ]
  },
  {
   "cell_type": "code",
   "execution_count": null,
   "id": "photographic-payday",
   "metadata": {},
   "outputs": [],
   "source": [
    "from gamestonk_terminal.cryptocurrency.overview import coinpaprika_view\n",
    "\n",
    "coinpaprika_view.display_all_coins_market_info(\n",
    "    currency=\"USD\", sortby=\"volume_24h\", descend=True, top=10, export=\"\"\n",
    ")"
   ]
  },
  {
   "cell_type": "markdown",
   "id": "median-spirituality",
   "metadata": {},
   "source": [
    "## Top gainers in last 24h"
   ]
  },
  {
   "cell_type": "code",
   "execution_count": null,
   "id": "threaded-archives",
   "metadata": {},
   "outputs": [],
   "source": [
    "from gamestonk_terminal.cryptocurrency.discovery import pycoingecko_view\n",
    "\n",
    "pycoingecko_view.display_gainers(\n",
    "    period=\"24h\", top=10, sortby=\"%Change_24h\", descend=False, links=False, export=\"\"\n",
    ")"
   ]
  },
  {
   "cell_type": "markdown",
   "id": "recognized-intent",
   "metadata": {},
   "source": [
    "## Top losers in last 24h"
   ]
  },
  {
   "cell_type": "code",
   "execution_count": null,
   "id": "exceptional-objective",
   "metadata": {},
   "outputs": [],
   "source": [
    "from gamestonk_terminal.cryptocurrency.discovery import pycoingecko_view\n",
    "\n",
    "pycoingecko_view.display_losers(\n",
    "    period=\"24h\", top=10, sortby=\"%Change_24h\", descend=True, links=False, export=\"\"\n",
    ")"
   ]
  },
  {
   "cell_type": "markdown",
   "id": "rough-routine",
   "metadata": {},
   "source": [
    "## Top coins with most positive sentiment"
   ]
  },
  {
   "cell_type": "code",
   "execution_count": null,
   "id": "matched-syria",
   "metadata": {},
   "outputs": [],
   "source": [
    "from gamestonk_terminal.cryptocurrency.discovery import pycoingecko_view\n",
    "\n",
    "pycoingecko_view.display_discover(\n",
    "    category=\"positive_sentiment\",\n",
    "    top=10,\n",
    "    sortby=\"Price_USD\",\n",
    "    descend=False,\n",
    "    links=False,\n",
    "    export=\"\",\n",
    ")"
   ]
  },
  {
   "cell_type": "markdown",
   "id": "established-order",
   "metadata": {},
   "source": [
    "## Decentralized Finance Global Market Info"
   ]
  },
  {
   "cell_type": "code",
   "execution_count": null,
   "id": "artistic-grocery",
   "metadata": {},
   "outputs": [],
   "source": [
    "from gamestonk_terminal.cryptocurrency.overview import pycoingecko_view\n",
    "\n",
    "pycoingecko_view.display_global_defi_info(export=\"\")"
   ]
  },
  {
   "cell_type": "markdown",
   "id": "elect-universe",
   "metadata": {},
   "source": [
    "## Top DeFi Coins"
   ]
  },
  {
   "cell_type": "code",
   "execution_count": null,
   "id": "configured-macedonia",
   "metadata": {
    "scrolled": false
   },
   "outputs": [],
   "source": [
    "from gamestonk_terminal.cryptocurrency.discovery import pycoingecko_view\n",
    "\n",
    "pycoingecko_view.display_top_defi_coins(\n",
    "    top=10, sortby=\"Change_24h\", descend=False, links=False, export=\"\"\n",
    ")"
   ]
  },
  {
   "cell_type": "markdown",
   "id": "comparative-congo",
   "metadata": {},
   "source": [
    "## Top Decentralized Exchanges"
   ]
  },
  {
   "cell_type": "code",
   "execution_count": null,
   "id": "scientific-healthcare",
   "metadata": {},
   "outputs": [],
   "source": [
    "from gamestonk_terminal.cryptocurrency.discovery import pycoingecko_view\n",
    "\n",
    "pycoingecko_view.display_top_dex(top=10, sortby=\"Volume_24h\", descend=False, export=\"\")"
   ]
  },
  {
   "cell_type": "markdown",
   "id": "incorrect-indicator",
   "metadata": {},
   "source": [
    "## Top Yield Farms"
   ]
  },
  {
   "cell_type": "code",
   "execution_count": null,
   "id": "legal-marijuana",
   "metadata": {},
   "outputs": [],
   "source": [
    "from gamestonk_terminal.cryptocurrency.discovery import pycoingecko_view\n",
    "\n",
    "pycoingecko_view.display_yieldfarms(\n",
    "    top=10, sortby=\"Value_Locked\", descend=False, export=\"\"\n",
    ")"
   ]
  },
  {
   "cell_type": "code",
   "execution_count": null,
   "id": "knowing-imagination",
   "metadata": {},
   "outputs": [],
   "source": [
    "!jupyter nbconvert {report_name + \".ipynb\"} --to html --no-input"
   ]
  }
 ],
 "metadata": {
  "celltoolbar": "Tags",
  "kernelspec": {
   "display_name": "",
   "language": "python",
   "name": ""
  },
  "language_info": {
   "codemirror_mode": {
    "name": "ipython",
    "version": 3
   },
   "file_extension": ".py",
   "mimetype": "text/x-python",
   "name": "python",
   "nbconvert_exporter": "python",
   "pygments_lexer": "ipython3",
   "version": "3.8.6"
  }
 },
 "nbformat": 4,
 "nbformat_minor": 5
}

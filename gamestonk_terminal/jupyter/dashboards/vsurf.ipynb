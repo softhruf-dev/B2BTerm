{
 "cells": [
  {
   "cell_type": "code",
   "execution_count": 2,
   "id": "68b664c7-c52d-42c1-b170-575370323d22",
   "metadata": {},
   "outputs": [],
   "source": [
    "import os\n",
    "from datetime import datetime, timedelta\n",
    "import ipywidgets as widgets\n",
    "import plotly.graph_objs as go\n",
    "import plotly.express as px\n",
    "import yfinance as yf\n",
    "import pandas as pd\n",
    "import numpy as np\n",
    "from IPython.display import display\n",
    "from gamestonk_terminal import api as gst"
   ]
  },
  {
   "cell_type": "code",
   "execution_count": 3,
   "id": "c1bc5c6a-ccb2-4ef5-9c79-1f619fbf95a6",
   "metadata": {},
   "outputs": [
    {
     "data": {
      "application/vnd.jupyter.widget-view+json": {
       "model_id": "cf607d90bd99429889ac3444561b867d",
       "version_major": 2,
       "version_minor": 0
      },
      "text/plain": [
       "VBox(children=(HTML(value='<h1>Option Surface Dashboard</h1>'), VBox(children=(Text(description=…"
      ]
     },
     "metadata": {},
     "output_type": "display_data"
    }
   ],
   "source": [
    "def create_layout(fig, width, height, z, ticker):\n",
    "    z_dict = {\n",
    "        \"IV\": \"Implied Volatility\",\n",
    "        \"OI\": \"Open Interest\",\n",
    "        \"LP\": \"Last Price\",\n",
    "    }\n",
    "\n",
    "    fig.update_layout(\n",
    "        title=f\"{z.upper()} Surface for {ticker.upper()}\",\n",
    "        autosize=False,\n",
    "        width=width,\n",
    "        height=height,\n",
    "        scene=dict(\n",
    "            xaxis_title=\"Days to Expiration\",\n",
    "            yaxis_title=\"Strike\",\n",
    "            zaxis_title=z_dict[z],\n",
    "        ),\n",
    "    )\n",
    "\n",
    "\n",
    "def view_chart(z, ticker):\n",
    "    global last_ticker, df\n",
    "    if ticker:\n",
    "        if ticker != last_ticker:\n",
    "            df = gst.stocks.options.models.yfinance.get_iv_surface(ticker)\n",
    "            last_ticker = ticker\n",
    "\n",
    "        if not df.empty:\n",
    "            z_dict = {\n",
    "                \"IV\": df.impliedVolatility,\n",
    "                \"OI\": df.openInterest,\n",
    "                \"LP\": df.lastPrice,\n",
    "            }\n",
    "            fig = go.Figure(\n",
    "                data=[\n",
    "                    go.Mesh3d(\n",
    "                        z=z_dict[z],\n",
    "                        x=df.dte,\n",
    "                        y=df.strike,\n",
    "                        intensity=np.sqrt(z_dict[z]),\n",
    "                        colorscale=px.colors.sequential.Plasma,\n",
    "                    )\n",
    "                ]\n",
    "            )\n",
    "\n",
    "            fig.update_traces(showscale=False)\n",
    "            if os.environ.get(\"SERVER_SOFTWARE\", \"jupyter\").startswith(\"voila\"):\n",
    "                create_layout(fig, 1000, 1000, z, ticker)\n",
    "                fig.show(config={\"showTips\": False}, renderer=\"notebook\")\n",
    "            else:\n",
    "                create_layout(fig, 700, 700, z, ticker)\n",
    "                fig.show(config={\"showTips\": False})\n",
    "\n",
    "\n",
    "last_ticker = \"\"\n",
    "opts = [\"IV\", \"OI\", \"LP\"]\n",
    "z_widget = widgets.Dropdown(options=opts, value=\"IV\", description=\"Data\")\n",
    "\n",
    "tickers_widget = widgets.Text(description=\"Ticker\", value=\"TSLA\")\n",
    "controls = widgets.VBox([tickers_widget, z_widget])\n",
    "\n",
    "stocks_view = widgets.interactive_output(\n",
    "    view_chart,\n",
    "    {\n",
    "        \"z\": z_widget,\n",
    "        \"ticker\": tickers_widget,\n",
    "    },\n",
    ")\n",
    "\n",
    "title_html = \"<h1>Option Surface Dashboard</h1>\"\n",
    "app_contents = [\n",
    "    widgets.HTML(title_html),\n",
    "    controls,\n",
    "    stocks_view,\n",
    "]\n",
    "app = widgets.VBox(app_contents)\n",
    "display(app)"
   ]
  }
 ],
 "metadata": {
  "kernelspec": {
   "display_name": "Python 3 (ipykernel)",
   "language": "python",
   "name": "python3"
  },
  "language_info": {
   "codemirror_mode": {
    "name": "ipython",
    "version": 3
   },
   "file_extension": ".py",
   "mimetype": "text/x-python",
   "name": "python",
   "nbconvert_exporter": "python",
   "pygments_lexer": "ipython3",
   "version": "3.8.12"
  }
 },
 "nbformat": 4,
 "nbformat_minor": 5
}

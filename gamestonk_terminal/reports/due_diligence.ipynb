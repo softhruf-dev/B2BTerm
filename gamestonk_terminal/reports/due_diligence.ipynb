{
 "cells": [
  {
   "cell_type": "code",
   "execution_count": null,
   "id": "phantom-facility",
   "metadata": {},
   "outputs": [],
   "source": [
    "# Import most generic modules\n",
    "import importlib\n",
    "import pathlib\n",
    "import os\n",
    "import sys\n",
    "from datetime import datetime, timedelta\n",
    "import pandas as pd\n",
    "from IPython.display import display, Markdown\n",
    "import warnings\n",
    "warnings.filterwarnings('ignore')\n",
    "module_path = os.path.abspath(os.path.join('../..'))\n",
    "\n",
    "if module_path not in sys.path:\n",
    "    sys.path.append(module_path)"
   ]
  },
  {
   "cell_type": "code",
   "execution_count": null,
   "id": "compact-count",
   "metadata": {
    "tags": [
     "parameters"
    ]
   },
   "outputs": [],
   "source": [
    "# Parameters that will be replaced when calling this notebook\n",
    "ticker=\"GME\"\n",
    "\n",
    "report_name=f\"{datetime.now().strftime('%Y%m%d_%H%M%S')}_due_diligence_{ticker.upper()}\""
   ]
  },
  {
   "cell_type": "code",
   "execution_count": null,
   "id": "possible-constraint",
   "metadata": {},
   "outputs": [],
   "source": [
    "display(Markdown(f\"# {ticker.upper()} - Due Diligence - {datetime.now().strftime('%Y/%m/%d %H:%M:%S')}\"))"
   ]
  },
  {
   "cell_type": "markdown",
   "id": "temporal-clerk",
   "metadata": {},
   "source": [
    "## Candle View"
   ]
  },
  {
   "cell_type": "code",
   "execution_count": null,
   "id": "transsexual-trance",
   "metadata": {},
   "outputs": [],
   "source": [
    "import mplfinance as mpf\n",
    "from gamestonk_terminal.common.technical_analysis import trendline_api as trend\n",
    "\n",
    "df_stock = trend.load_ticker(ticker, (datetime.now() - timedelta(days=180)).strftime(\"%Y-%m-%d\"))\n",
    "df_stock = trend.find_trendline(df_stock, \"OC_High\", \"high\")\n",
    "df_stock = trend.find_trendline(df_stock, \"OC_Low\", \"how\")\n",
    "mc = mpf.make_marketcolors(up='green',down='red',\n",
    "                           edge='black',\n",
    "                           wick='black',\n",
    "                           volume='in',\n",
    "                           ohlc='i')\n",
    "s  = mpf.make_mpf_style(marketcolors=mc, gridstyle=\":\", y_on_right=True)\n",
    "\n",
    "ap0 = []\n",
    "\n",
    "if \"OC_High_trend\" in df_stock.columns:\n",
    "    ap0.append(\n",
    "        mpf.make_addplot(df_stock[\"OC_High_trend\"], color=\"g\"),\n",
    "    )\n",
    "\n",
    "if \"OC_Low_trend\" in df_stock.columns:\n",
    "    ap0.append(\n",
    "        mpf.make_addplot(df_stock[\"OC_Low_trend\"], color=\"b\"),\n",
    "    )\n",
    "    \n",
    "mpf.plot(df_stock,type='candle',mav=(20,50,200),volume=True, addplot=ap0,\n",
    "         xrotation=0, style=s, figratio=(10,7), figscale=2.00, \n",
    "        update_width_config=dict(candle_linewidth=1.0,candle_width=0.8, volume_linewidth=1.0))"
   ]
  },
  {
   "cell_type": "markdown",
   "id": "political-intake",
   "metadata": {},
   "source": [
    "## Analyst Targets"
   ]
  },
  {
   "cell_type": "code",
   "execution_count": null,
   "id": "numerous-begin",
   "metadata": {
    "scrolled": true
   },
   "outputs": [],
   "source": [
    "from gamestonk_terminal.stocks.due_diligence import finviz_view\n",
    "\n",
    "finviz_view.analyst(ticker=ticker, export='')"
   ]
  },
  {
   "cell_type": "markdown",
   "id": "3cfd302c",
   "metadata": {},
   "source": [
    "## Fundamentals"
   ]
  },
  {
   "cell_type": "markdown",
   "id": "written-lease",
   "metadata": {},
   "source": [
    "### Annual Income Statement"
   ]
  },
  {
   "cell_type": "code",
   "execution_count": null,
   "id": "played-vancouver",
   "metadata": {},
   "outputs": [],
   "source": [
    "from gamestonk_terminal.stocks.fundamental_analysis import av_view\n",
    "\n",
    "av_view.display_income_statement(ticker, number=1)"
   ]
  },
  {
   "cell_type": "markdown",
   "id": "smooth-forge",
   "metadata": {},
   "source": [
    "### Quarterly Income Statement"
   ]
  },
  {
   "cell_type": "code",
   "execution_count": null,
   "id": "juvenile-throw",
   "metadata": {},
   "outputs": [],
   "source": [
    "from gamestonk_terminal.stocks.fundamental_analysis import av_view\n",
    "\n",
    "av_view.display_income_statement(ticker, number = 1, quarterly=True)"
   ]
  },
  {
   "cell_type": "markdown",
   "id": "passive-nerve",
   "metadata": {},
   "source": [
    "### Annual Balance Sheet"
   ]
  },
  {
   "cell_type": "code",
   "execution_count": null,
   "id": "nominated-empire",
   "metadata": {},
   "outputs": [],
   "source": [
    "from gamestonk_terminal.stocks.fundamental_analysis import av_view\n",
    "av_view.display_balance_sheet(ticker, number = 1)"
   ]
  },
  {
   "cell_type": "markdown",
   "id": "special-bargain",
   "metadata": {},
   "source": [
    "### Annual Cash Flow"
   ]
  },
  {
   "cell_type": "code",
   "execution_count": null,
   "id": "focused-thanks",
   "metadata": {},
   "outputs": [],
   "source": [
    "from gamestonk_terminal.stocks.fundamental_analysis import av_view\n",
    "av_view.display_cash_flow(ticker,number=1)"
   ]
  },
  {
   "cell_type": "code",
   "execution_count": null,
   "id": "sought-phase",
   "metadata": {},
   "outputs": [],
   "source": [
    "!jupyter nbconvert {report_name + \".ipynb\"} --to html --no-input"
   ]
  }
 ],
 "metadata": {
  "celltoolbar": "Tags",
  "kernelspec": {
   "display_name": "Python 3 (ipykernel)",
   "language": "python",
   "name": "python3"
  },
  "language_info": {
   "codemirror_mode": {
    "name": "ipython",
    "version": 3
   },
   "file_extension": ".py",
   "mimetype": "text/x-python",
   "name": "python",
   "nbconvert_exporter": "python",
   "pygments_lexer": "ipython3",
   "version": "3.8.6"
  }
 },
 "nbformat": 4,
 "nbformat_minor": 5
}

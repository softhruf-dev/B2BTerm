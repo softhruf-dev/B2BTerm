{
 "cells": [
  {
   "cell_type": "code",
   "execution_count": null,
   "id": "elect-highway",
   "metadata": {
    "collapsed": true
   },
   "outputs": [],
   "source": [
    "import importlib\n",
    "import pathlib\n",
    "import os\n",
    "import sys\n",
    "from datetime import datetime, timedelta\n",
    "import pandas as pd\n",
    "from IPython.display import display, Markdown\n",
    "import warnings\n",
    "warnings.filterwarnings('ignore')\n",
    "module_path = os.path.abspath(os.path.join('../..'))\n",
    "\n",
    "if module_path not in sys.path:\n",
    "    sys.path.append(module_path)"
   ]
  },
  {
   "cell_type": "code",
   "execution_count": null,
   "id": "fatty-colony",
   "metadata": {
    "collapsed": true,
    "tags": [
     "parameters"
    ]
   },
   "outputs": [],
   "source": [
    "report_name=f\"crypto_market_{datetime.now().strftime('%Y%m%d_%H%M%S')}\""
   ]
  },
  {
   "cell_type": "code",
   "execution_count": null,
   "id": "medieval-majority",
   "metadata": {},
   "outputs": [],
   "source": [
    "display(Markdown(f\"# Crypto Market - {datetime.now().strftime('%Y/%m/%d %H:%M:%S')}\"))"
   ]
  },
  {
   "cell_type": "code",
   "execution_count": null,
   "id": "affecting-engagement",
   "metadata": {
    "collapsed": true
   },
   "outputs": [],
   "source": [
    "from gamestonk_terminal.cryptocurrency.due_diligence import pycoingecko_view as dd_cg\n",
    "from gamestonk_terminal.cryptocurrency.due_diligence import coinpaprika_view as dd_cp\n",
    "from gamestonk_terminal.cryptocurrency.overview import pycoingecko_view as ov_cg\n",
    "from gamestonk_terminal.cryptocurrency.overview import coinpaprika_view as ov_cp\n",
    "from gamestonk_terminal.cryptocurrency.discovery import pycoingecko_view as disc_cg"
   ]
  },
  {
   "cell_type": "markdown",
   "id": "basic-sucking",
   "metadata": {},
   "source": [
    "## Bitcoin Chart"
   ]
  },
  {
   "cell_type": "code",
   "execution_count": null,
   "id": "molecular-rebecca",
   "metadata": {},
   "outputs": [],
   "source": [
    "dd_cp.chart(\"btc-bitcoin\", [\"-d\", \"60\"])"
   ]
  },
  {
   "cell_type": "markdown",
   "id": "animal-titanium",
   "metadata": {},
   "source": [
    "## Global Market Information"
   ]
  },
  {
   "cell_type": "code",
   "execution_count": null,
   "id": "artistic-stewart",
   "metadata": {},
   "outputs": [],
   "source": [
    "ov_cp.global_market([])"
   ]
  },
  {
   "cell_type": "markdown",
   "id": "sharing-cutting",
   "metadata": {},
   "source": [
    "## Hot news"
   ]
  },
  {
   "cell_type": "code",
   "execution_count": null,
   "id": "equal-centre",
   "metadata": {},
   "outputs": [],
   "source": [
    "ov_cg.news(['-t','25'])"
   ]
  },
  {
   "cell_type": "markdown",
   "id": "twelve-visiting",
   "metadata": {},
   "source": [
    "## Top coins market information"
   ]
  },
  {
   "cell_type": "code",
   "execution_count": null,
   "id": "photographic-payday",
   "metadata": {},
   "outputs": [],
   "source": [
    "ov_cp.all_coins_market_info(['--vs','USD','-t','15'])"
   ]
  },
  {
   "cell_type": "markdown",
   "id": "median-spirituality",
   "metadata": {},
   "source": [
    "## Top gainers in last 24h"
   ]
  },
  {
   "cell_type": "code",
   "execution_count": null,
   "id": "threaded-archives",
   "metadata": {},
   "outputs": [],
   "source": [
    "disc_cg.gainers(['-t','15','-p','24h'])"
   ]
  },
  {
   "cell_type": "markdown",
   "id": "recognized-intent",
   "metadata": {},
   "source": [
    "## Top losers in last 24h"
   ]
  },
  {
   "cell_type": "code",
   "execution_count": null,
   "id": "exceptional-objective",
   "metadata": {},
   "outputs": [],
   "source": [
    "disc_cg.losers(['-t','15','-p','24h','-s','Change'])"
   ]
  },
  {
   "cell_type": "markdown",
   "id": "rough-routine",
   "metadata": {},
   "source": [
    "## Top coins with most positive sentiment"
   ]
  },
  {
   "cell_type": "code",
   "execution_count": null,
   "id": "matched-syria",
   "metadata": {},
   "outputs": [],
   "source": [
    "disc_cg.discover(category='positive_sentiment',other_args=['-t','15'])"
   ]
  },
  {
   "cell_type": "markdown",
   "id": "established-order",
   "metadata": {},
   "source": [
    "## Decentralized Finance Global Market Info"
   ]
  },
  {
   "cell_type": "code",
   "execution_count": null,
   "id": "artistic-grocery",
   "metadata": {},
   "outputs": [],
   "source": [
    "ov_cg.global_defi_info([])"
   ]
  },
  {
   "cell_type": "markdown",
   "id": "elect-universe",
   "metadata": {},
   "source": [
    "## Top DeFi Coins"
   ]
  },
  {
   "cell_type": "code",
   "execution_count": null,
   "id": "configured-macedonia",
   "metadata": {
    "scrolled": false
   },
   "outputs": [],
   "source": [
    "disc_cg.top_defi_coins([\"-t\", \"15\"])"
   ]
  },
  {
   "cell_type": "markdown",
   "id": "comparative-congo",
   "metadata": {},
   "source": [
    "## Top Decentralized Exchanges"
   ]
  },
  {
   "cell_type": "code",
   "execution_count": null,
   "id": "scientific-healthcare",
   "metadata": {},
   "outputs": [],
   "source": [
    "disc_cg.top_dex([\"-t\", \"10\"])"
   ]
  },
  {
   "cell_type": "markdown",
   "id": "incorrect-indicator",
   "metadata": {},
   "source": [
    "## Top Yield Farms"
   ]
  },
  {
   "cell_type": "code",
   "execution_count": null,
   "id": "legal-marijuana",
   "metadata": {},
   "outputs": [],
   "source": [
    "disc_cg.yfarms(['-t','15'])"
   ]
  },
  {
   "cell_type": "code",
   "execution_count": null,
   "id": "knowing-imagination",
   "metadata": {},
   "outputs": [],
   "source": [
    "!jupyter nbconvert {os.path.join(\"notebooks\", \"reports\", report_name + \".ipynb\")} --to html --no-input"
   ]
  },
  {
   "cell_type": "code",
   "execution_count": null,
   "id": "brown-wayne",
   "metadata": {
    "collapsed": true
   },
   "outputs": [],
   "source": []
  }
 ],
 "metadata": {
  "celltoolbar": "Tags",
  "kernelspec": {
   "display_name": "Python 3",
   "language": "python",
   "name": "python3"
  },
  "language_info": {
   "codemirror_mode": {
    "name": "ipython",
    "version": 3
   },
   "file_extension": ".py",
   "mimetype": "text/x-python",
   "name": "python",
   "nbconvert_exporter": "python",
   "pygments_lexer": "ipython3",
   "version": "3.6.8"
  }
 },
 "nbformat": 4,
 "nbformat_minor": 5
}

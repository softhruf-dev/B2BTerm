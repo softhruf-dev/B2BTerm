{
 "cells": [
  {
   "cell_type": "code",
   "execution_count": null,
   "id": "blank-couple",
   "metadata": {},
   "outputs": [],
   "source": [
    "import importlib\n",
    "import pathlib\n",
    "import os\n",
    "import sys\n",
    "from datetime import datetime, timedelta\n",
    "import pandas as pd\n",
    "from IPython.display import display, Markdown\n",
    "import warnings\n",
    "warnings.filterwarnings('ignore')\n",
    "module_path = os.path.abspath(os.path.join('../..'))\n",
    "\n",
    "if module_path not in sys.path:\n",
    "    sys.path.append(module_path)"
   ]
  },
  {
   "cell_type": "code",
   "execution_count": null,
   "id": "naked-shower",
   "metadata": {
    "tags": [
     "parameters"
    ]
   },
   "outputs": [],
   "source": [
    "ticker=\"AMC\"\n",
    "report_name=f\"{ticker}_{datetime.now().strftime('%Y%m%d_%H%M%S')}_dark_pool\"\n",
    "base_path=os.path.abspath(os.path.join('.'))"
   ]
  },
  {
   "cell_type": "code",
   "execution_count": null,
   "id": "3da954c2",
   "metadata": {},
   "outputs": [],
   "source": [
    "display(Markdown(f\"# {datetime.now().strftime('%Y/%m/%d %H:%M:%S')} - {ticker.upper()} - Dark Pool\"))"
   ]
  },
  {
   "cell_type": "code",
   "execution_count": null,
   "id": "moderate-cheat",
   "metadata": {},
   "outputs": [],
   "source": [
    "report_cache_dir = pathlib.Path(base_path, \"notebooks\", \"reports\", report_name)\n",
    "if not os.path.isdir(report_cache_dir):\n",
    "    print(\"Reports data directory not found.\")\n",
    "    print(f\"Creating {report_cache_dir}\")\n",
    "    os.mkdir(report_cache_dir);\n",
    "else:\n",
    "    print(f\"Found reports directory {report_cache_dir}\")\n",
    "    print(os.listdir(report_cache_dir));"
   ]
  },
  {
   "cell_type": "code",
   "execution_count": null,
   "id": "southern-gnome",
   "metadata": {},
   "outputs": [],
   "source": [
    "from gamestonk_terminal.technical_analysis import trendline_api as trend\n",
    "from gamestonk_terminal.due_diligence import finviz_view as finviz"
   ]
  },
  {
   "cell_type": "markdown",
   "id": "908ee271",
   "metadata": {},
   "source": [
    "## Top 10 Negative Dark Pool Positions"
   ]
  },
  {
   "cell_type": "code",
   "execution_count": null,
   "id": "separated-oasis",
   "metadata": {},
   "outputs": [],
   "source": [
    "from gamestonk_terminal.discovery import stockgrid_view\n",
    "stockgrid_view.darkshort([\"-a\"])"
   ]
  },
  {
   "cell_type": "markdown",
   "id": "22d4a089",
   "metadata": {},
   "source": [
    "## Previous Ten Days of trading data for the Dark Pool"
   ]
  },
  {
   "cell_type": "code",
   "execution_count": null,
   "id": "israeli-eugene",
   "metadata": {},
   "outputs": [],
   "source": [
    "from gamestonk_terminal.due_diligence import stockgrid_dd_view\n",
    "stockgrid_dd_view.darkpos(ticker.upper(), [\"-n\", \"10\", \"-r\"])"
   ]
  },
  {
   "cell_type": "code",
   "execution_count": null,
   "id": "9ea1ab2b",
   "metadata": {},
   "outputs": [],
   "source": [
    "stockgrid_dd_view.shortview(ticker.upper(), [\"-n\", \"10\", \"-r\"])"
   ]
  },
  {
   "cell_type": "markdown",
   "id": "69329ccf",
   "metadata": {},
   "source": [
    "## Options info"
   ]
  },
  {
   "cell_type": "code",
   "execution_count": null,
   "id": "tough-percentage",
   "metadata": {},
   "outputs": [],
   "source": [
    "from gamestonk_terminal.options import barchart_view\n",
    "barchart_view.print_options_data(\"AMC\", [])"
   ]
  },
  {
   "cell_type": "markdown",
   "id": "16691295",
   "metadata": {},
   "source": [
    "## Put and Call Open Interest Expiring"
   ]
  },
  {
   "cell_type": "code",
   "execution_count": null,
   "id": "critical-electronics",
   "metadata": {},
   "outputs": [],
   "source": [
    "from gamestonk_terminal.options import yfinance_model, tradier_view, tradier_model\n",
    "selected_date = tradier_model.option_expirations(ticker)[0]\n",
    "\n",
    "from gamestonk_terminal.options import op_helpers\n",
    "parsed = op_helpers.oi([\"-m\", \"1\", \"-M\", \"145\", \"--source\", \"tr\"])\n",
    "\n",
    "#from gamestonk_terminal.options import op_helpers\n",
    "options = tradier_model.get_option_chains(ticker, selected_date)\n",
    "tradier_view.plot_oi(options, ticker, selected_date, parsed)"
   ]
  },
  {
   "cell_type": "markdown",
   "id": "58ee8529",
   "metadata": {},
   "source": [
    "## Failure-to-deliver (30 days lag)"
   ]
  },
  {
   "cell_type": "code",
   "execution_count": null,
   "id": "clear-expense",
   "metadata": {},
   "outputs": [],
   "source": [
    "ticker = \"AMC\"\n",
    "import pandas as pd\n",
    "from gamestonk_terminal import main_helper\n",
    "_, _, _, stock = main_helper.load([\"-t\", ticker], \"\", \"\", 1440, pd.DataFrame())\n",
    "\n",
    "from gamestonk_terminal.due_diligence import sec_view\n",
    "sec_view.fails_to_deliver([], ticker, stock)"
   ]
  },
  {
   "cell_type": "code",
   "execution_count": null,
   "id": "787c93f0",
   "metadata": {},
   "outputs": [],
   "source": [
    "folder = \"notebooks/reports/\"\n",
    "extension = \".ipynb\"\n",
    "!jupyter nbconvert {folder + report_name + extension} --to html --no-input"
   ]
  }
 ],
 "metadata": {
  "kernelspec": {
   "display_name": "Python 3",
   "language": "python",
   "name": "python3"
  },
  "language_info": {
   "codemirror_mode": {
    "name": "ipython",
    "version": 3
   },
   "file_extension": ".py",
   "mimetype": "text/x-python",
   "name": "python",
   "nbconvert_exporter": "python",
   "pygments_lexer": "ipython3",
   "version": "3.8.10"
  }
 },
 "nbformat": 4,
 "nbformat_minor": 5
}

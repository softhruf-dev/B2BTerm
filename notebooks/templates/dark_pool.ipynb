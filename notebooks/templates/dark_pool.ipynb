{
 "cells": [
  {
   "cell_type": "code",
   "execution_count": null,
   "id": "atomic-accessory",
   "metadata": {},
   "outputs": [],
   "source": [
    "import importlib\n",
    "import pathlib\n",
    "import os\n",
    "import sys\n",
    "from datetime import datetime, timedelta\n",
    "import pandas as pd\n",
    "from IPython.display import display, Markdown\n",
    "import warnings\n",
    "warnings.filterwarnings('ignore')\n",
    "module_path = os.path.abspath(os.path.join('../..'))\n",
    "\n",
    "if module_path not in sys.path:\n",
    "    sys.path.append(module_path)"
   ]
  },
  {
   "cell_type": "code",
   "execution_count": null,
   "id": "early-oxford",
   "metadata": {
    "tags": [
     "parameters"
    ]
   },
   "outputs": [],
   "source": [
    "ticker=\"AMC\"\n",
    "report_name=f\"{ticker.upper()}_dark_pool_{datetime.now().strftime('%Y%m%d_%H%M%S')}\""
   ]
  },
  {
   "cell_type": "code",
   "execution_count": null,
   "id": "extra-tennessee",
   "metadata": {},
   "outputs": [],
   "source": [
    "display(Markdown(f\"# {ticker.upper()} - Dark Pool - {datetime.now().strftime('%Y/%m/%d %H:%M:%S')}\"))"
   ]
  },
  {
   "cell_type": "code",
   "execution_count": null,
   "id": "lovely-communications",
   "metadata": {},
   "outputs": [],
   "source": [
    "from gamestonk_terminal.technical_analysis import trendline_api as trend\n",
    "from gamestonk_terminal.due_diligence import finviz_view as finviz"
   ]
  },
  {
   "cell_type": "markdown",
   "id": "criminal-connection",
   "metadata": {},
   "source": [
    "## Top 10 Negative Dark Pool Positions"
   ]
  },
  {
   "cell_type": "code",
   "execution_count": null,
   "id": "indonesian-stuff",
   "metadata": {},
   "outputs": [],
   "source": [
    "from gamestonk_terminal.discovery import stockgrid_view\n",
    "stockgrid_view.darkshort([\"-a\"])"
   ]
  },
  {
   "cell_type": "markdown",
   "id": "indoor-printing",
   "metadata": {},
   "source": [
    "## Previous Ten Days of trading data for the Dark Pool"
   ]
  },
  {
   "cell_type": "code",
   "execution_count": null,
   "id": "consolidated-childhood",
   "metadata": {},
   "outputs": [],
   "source": [
    "from gamestonk_terminal.due_diligence import stockgrid_dd_view\n",
    "stockgrid_dd_view.darkpos(ticker.upper(), [\"-n\", \"10\", \"-r\"])"
   ]
  },
  {
   "cell_type": "code",
   "execution_count": null,
   "id": "minus-cross",
   "metadata": {},
   "outputs": [],
   "source": [
    "stockgrid_dd_view.shortview(ticker.upper(), [\"-n\", \"10\", \"-r\"])"
   ]
  },
  {
   "cell_type": "markdown",
   "id": "recognized-affair",
   "metadata": {},
   "source": [
    "## Options info"
   ]
  },
  {
   "cell_type": "code",
   "execution_count": null,
   "id": "special-certification",
   "metadata": {},
   "outputs": [],
   "source": [
    "from gamestonk_terminal.options import barchart_view\n",
    "barchart_view.print_options_data(ticker.upper(), [])"
   ]
  },
  {
   "cell_type": "markdown",
   "id": "respected-fossil",
   "metadata": {},
   "source": [
    "## Put and Call Open Interest Expiring"
   ]
  },
  {
   "cell_type": "code",
   "execution_count": null,
   "id": "compressed-there",
   "metadata": {},
   "outputs": [],
   "source": [
    "from gamestonk_terminal.options import yfinance_model, yfinance_view\n",
    "selected_date = yfinance_model.option_expirations(ticker)[0]\n",
    "\n",
    "from gamestonk_terminal.options import op_helpers\n",
    "parsed = op_helpers.oi([\"--source\", \"yf\"])\n",
    "\n",
    "#from gamestonk_terminal.options import op_helpers\n",
    "options = yfinance_model.get_option_chain(ticker, selected_date)\n",
    "yfinance_view.plot_oi(options.calls, options.puts, ticker, selected_date, parsed)"
   ]
  },
  {
   "cell_type": "markdown",
   "id": "combined-integrity",
   "metadata": {},
   "source": [
    "## Failure-to-deliver (30 days lag)"
   ]
  },
  {
   "cell_type": "code",
   "execution_count": null,
   "id": "exciting-harvard",
   "metadata": {},
   "outputs": [],
   "source": [
    "from gamestonk_terminal import main_helper\n",
    "_, _, _, stock = main_helper.load([\"-t\", ticker], \"\", \"\", 1440, pd.DataFrame())\n",
    "\n",
    "from gamestonk_terminal.due_diligence import sec_view\n",
    "sec_view.fails_to_deliver([], ticker.upper(), stock)"
   ]
  },
  {
   "cell_type": "code",
   "execution_count": null,
   "id": "central-jacob",
   "metadata": {},
   "outputs": [],
   "source": [
    "!jupyter nbconvert {os.path.join(\"notebooks\", \"reports\", report_name + \".ipynb\")} --to html --no-input"
   ]
  }
 ],
 "metadata": {
  "celltoolbar": "Tags",
  "kernelspec": {
   "display_name": "Python 3",
   "language": "python",
   "name": "python3"
  },
  "language_info": {
   "codemirror_mode": {
    "name": "ipython",
    "version": 3
   },
   "file_extension": ".py",
   "mimetype": "text/x-python",
   "name": "python",
   "nbconvert_exporter": "python",
   "pygments_lexer": "ipython3",
   "version": "3.8.10"
  }
 },
 "nbformat": 4,
 "nbformat_minor": 5
}

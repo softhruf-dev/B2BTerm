{
 "cells": [
  {
   "cell_type": "code",
   "execution_count": null,
   "id": "driven-billion",
   "metadata": {
    "collapsed": true
   },
   "outputs": [],
   "source": [
    "import importlib\n",
    "import pathlib\n",
    "import os\n",
    "import sys\n",
    "from datetime import datetime, timedelta\n",
    "import pandas as pd\n",
    "from IPython.display import display, Markdown\n",
    "import warnings\n",
    "warnings.filterwarnings('ignore')\n",
    "module_path = os.path.abspath(os.path.join('../..'))\n",
    "\n",
    "if module_path not in sys.path:\n",
    "    sys.path.append(module_path)"
   ]
  },
  {
   "cell_type": "code",
   "execution_count": null,
   "id": "intended-sherman",
   "metadata": {
    "collapsed": true,
    "tags": [
     "parameters"
    ]
   },
   "outputs": [],
   "source": [
    "ticker=\"AMC\"\n",
    "report_name=f\"{ticker.upper()}_dark_pool_{datetime.now().strftime('%Y%m%d_%H%M%S')}\""
   ]
  },
  {
   "cell_type": "code",
   "execution_count": null,
   "id": "mounted-phase",
   "metadata": {
    "collapsed": true
   },
   "outputs": [],
   "source": [
    "display(Markdown(f\"# {ticker.upper()} - Dark Pool - {datetime.now().strftime('%Y/%m/%d %H:%M:%S')}\"))"
   ]
  },
  {
   "cell_type": "code",
   "execution_count": null,
   "id": "built-second",
   "metadata": {
    "collapsed": true
   },
   "outputs": [],
   "source": [
    "from gamestonk_terminal.common.technical_analysis import trendline_api as trend\n",
    "from gamestonk_terminal.stocks.dark_pool_shorts import (\n",
    "    stockgrid_view,\n",
    "    sec_view,\n",
    "    finra_view,\n",
    "    shortinterest_view\n",
    ")\n",
    "\n",
    "from gamestonk_terminal.options import barchart_view, yfinance_model, yfinance_view\n",
    "from gamestonk_terminal.stocks import stocks_helper\n",
    "from datetime import datetime, timedelta"
   ]
  },
  {
   "cell_type": "markdown",
   "id": "capable-allergy",
   "metadata": {},
   "source": [
    "## Top 10 Negative Dark Pool Positions"
   ]
  },
  {
   "cell_type": "code",
   "execution_count": null,
   "id": "statewide-debate",
   "metadata": {
    "collapsed": true
   },
   "outputs": [],
   "source": [
    "stockgrid_view.dark_pool_short_positions(num=10, \n",
    "                                         sort_field=\"dpp_dollar\", \n",
    "                                         ascending=True, \n",
    "                                         export=\"\")"
   ]
  },
  {
   "cell_type": "markdown",
   "id": "artificial-tampa",
   "metadata": {},
   "source": [
    "## Top 10 Most Highly Shorted Stocks"
   ]
  },
  {
   "cell_type": "code",
   "execution_count": null,
   "id": "smaller-association",
   "metadata": {
    "collapsed": true
   },
   "outputs": [],
   "source": [
    "shortinterest_view.high_short_interest(num=10,\n",
    "                                       export=\"\")"
   ]
  },
  {
   "cell_type": "markdown",
   "id": "cleared-contemporary",
   "metadata": {},
   "source": [
    "## Dark Pool Activity"
   ]
  },
  {
   "cell_type": "code",
   "execution_count": null,
   "id": "medical-tomato",
   "metadata": {
    "collapsed": true
   },
   "outputs": [],
   "source": [
    "stockgrid_view.net_short_position(ticker=ticker.upper(), \n",
    "                                  num=60,\n",
    "                                  raw=False,\n",
    "                                  export=\"\")\n",
    "\n",
    "stockgrid_view.net_short_position(ticker=ticker.upper(), \n",
    "                                  num=10,\n",
    "                                  raw=True,\n",
    "                                  export=\"\")"
   ]
  },
  {
   "cell_type": "code",
   "execution_count": null,
   "id": "comprehensive-nashville",
   "metadata": {
    "collapsed": true
   },
   "outputs": [],
   "source": [
    "stockgrid_view.short_interest_volume(ticker=ticker.upper(), \n",
    "                                     num=60,\n",
    "                                     raw=False,\n",
    "                                     export=\"\")\n",
    "\n",
    "stockgrid_view.short_interest_volume(ticker=ticker.upper(), \n",
    "                                     num=10,\n",
    "                                     raw=True,\n",
    "                                     export=\"\")"
   ]
  },
  {
   "cell_type": "markdown",
   "id": "decreased-mills",
   "metadata": {},
   "source": [
    "## Options info"
   ]
  },
  {
   "cell_type": "code",
   "execution_count": null,
   "id": "medical-shaft",
   "metadata": {
    "collapsed": true
   },
   "outputs": [],
   "source": [
    "barchart_view.print_options_data(ticker=ticker.upper(), \n",
    "                                 export=\"\")"
   ]
  },
  {
   "cell_type": "markdown",
   "id": "understood-houston",
   "metadata": {},
   "source": [
    "## Put and Call Open Interest Expiring next"
   ]
  },
  {
   "cell_type": "code",
   "execution_count": null,
   "id": "acute-burning",
   "metadata": {
    "collapsed": true
   },
   "outputs": [],
   "source": [
    "selected_date = yfinance_model.option_expirations(ticker)[0]\n",
    "options = yfinance_model.get_option_chain(ticker, selected_date)\n",
    "\n",
    "yfinance_view.plot_oi(ticker=ticker,\n",
    "                      expiry=selected_date,\n",
    "                      min_sp=-1,\n",
    "                      max_sp=-1,\n",
    "                      calls_only=False,\n",
    "                      puts_only=False,\n",
    "                      export=\"\")"
   ]
  },
  {
   "cell_type": "markdown",
   "id": "convinced-orleans",
   "metadata": {},
   "source": [
    "## Failure-to-deliver (30 days lag)"
   ]
  },
  {
   "cell_type": "code",
   "execution_count": null,
   "id": "capital-narrow",
   "metadata": {
    "collapsed": true
   },
   "outputs": [],
   "source": [
    "_, _, _, stock = stocks_helper.load([\"-t\", ticker], \"\", \"\", 1440, pd.DataFrame())\n",
    "\n",
    "sec_view.fails_to_deliver(\n",
    "    ticker=ticker.upper(), \n",
    "    stock=stock,\n",
    "    start=datetime.now() - timedelta(days=60),\n",
    "    end=datetime.now(),\n",
    "    num=0,\n",
    "    raw=False,\n",
    "    export=\"\"\n",
    ")"
   ]
  },
  {
   "cell_type": "code",
   "execution_count": null,
   "id": "above-prior",
   "metadata": {
    "collapsed": true
   },
   "outputs": [],
   "source": [
    "!jupyter nbconvert {os.path.join(\"notebooks\", \"reports\", report_name + \".ipynb\")} --to html --no-input"
   ]
  }
 ],
 "metadata": {
  "celltoolbar": "Tags",
  "kernelspec": {
   "display_name": "Python 3",
   "language": "python",
   "name": "python3"
  },
  "language_info": {
   "codemirror_mode": {
    "name": "ipython",
    "version": 3
   },
   "file_extension": ".py",
   "mimetype": "text/x-python",
   "name": "python",
   "nbconvert_exporter": "python",
   "pygments_lexer": "ipython3",
   "version": "3.6.8"
  }
 },
 "nbformat": 4,
 "nbformat_minor": 5
}

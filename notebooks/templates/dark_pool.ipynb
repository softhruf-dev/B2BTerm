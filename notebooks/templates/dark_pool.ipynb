{
 "cells": [
  {
   "cell_type": "code",
   "execution_count": null,
   "id": "weighted-pharmacy",
   "metadata": {
    "collapsed": true
   },
   "outputs": [],
   "source": [
    "import importlib\n",
    "import pathlib\n",
    "import os\n",
    "import sys\n",
    "from datetime import datetime, timedelta\n",
    "import pandas as pd\n",
    "from IPython.display import display, Markdown\n",
    "import warnings\n",
    "warnings.filterwarnings('ignore')\n",
    "module_path = os.path.abspath(os.path.join('../..'))\n",
    "\n",
    "if module_path not in sys.path:\n",
    "    sys.path.append(module_path)"
   ]
  },
  {
   "cell_type": "code",
   "execution_count": null,
   "id": "photographic-wings",
   "metadata": {
    "collapsed": true,
    "tags": [
     "parameters"
    ]
   },
   "outputs": [],
   "source": [
    "ticker=\"AMC\"\n",
    "report_name=f\"{ticker.upper()}_dark_pool_{datetime.now().strftime('%Y%m%d_%H%M%S')}\""
   ]
  },
  {
   "cell_type": "code",
   "execution_count": null,
   "id": "successful-tradition",
   "metadata": {
    "collapsed": true
   },
   "outputs": [],
   "source": [
    "display(Markdown(f\"# {ticker.upper()} - Dark Pool - {datetime.now().strftime('%Y/%m/%d %H:%M:%S')}\"))"
   ]
  },
  {
   "cell_type": "code",
   "execution_count": null,
   "id": "recreational-newsletter",
   "metadata": {
    "collapsed": true
   },
   "outputs": [],
   "source": [
    "from gamestonk_terminal.common.technical_analysis import trendline_api as trend\n",
    "from gamestonk_terminal.stocks.due_diligence import finviz_view as finviz"
   ]
  },
  {
   "cell_type": "markdown",
   "id": "nervous-edgar",
   "metadata": {},
   "source": [
    "## Top 10 Negative Dark Pool Positions"
   ]
  },
  {
   "cell_type": "code",
   "execution_count": null,
   "id": "opponent-atlas",
   "metadata": {
    "collapsed": true
   },
   "outputs": [],
   "source": [
    "from gamestonk_terminal.stocks.discovery import stockgrid_view\n",
    "stockgrid_view.darkshort([\"-a\"])"
   ]
  },
  {
   "cell_type": "markdown",
   "id": "faced-stranger",
   "metadata": {},
   "source": [
    "## Previous Ten Days of trading data for the Dark Pool"
   ]
  },
  {
   "cell_type": "code",
   "execution_count": null,
   "id": "exterior-royal",
   "metadata": {
    "collapsed": true
   },
   "outputs": [],
   "source": [
    "from gamestonk_terminal.stocks.due_diligence import stockgrid_dd_view\n",
    "stockgrid_dd_view.darkpos(ticker.upper(), [\"-n\", \"10\", \"-r\"])"
   ]
  },
  {
   "cell_type": "code",
   "execution_count": null,
   "id": "polar-plain",
   "metadata": {
    "collapsed": true
   },
   "outputs": [],
   "source": [
    "stockgrid_dd_view.shortview(ticker.upper(), [\"-n\", \"10\", \"-r\"])"
   ]
  },
  {
   "cell_type": "markdown",
   "id": "foster-amendment",
   "metadata": {},
   "source": [
    "## Options info"
   ]
  },
  {
   "cell_type": "code",
   "execution_count": null,
   "id": "opponent-requirement",
   "metadata": {
    "collapsed": true
   },
   "outputs": [],
   "source": [
    "from gamestonk_terminal.options import barchart_view\n",
    "barchart_view.print_options_data(ticker.upper(), [])"
   ]
  },
  {
   "cell_type": "markdown",
   "id": "junior-paper",
   "metadata": {},
   "source": [
    "## Put and Call Open Interest Expiring"
   ]
  },
  {
   "cell_type": "code",
   "execution_count": null,
   "id": "general-reserve",
   "metadata": {
    "collapsed": true
   },
   "outputs": [],
   "source": [
    "from gamestonk_terminal.options import yfinance_model, yfinance_view\n",
    "selected_date = yfinance_model.option_expirations(ticker)[0]\n",
    "\n",
    "from gamestonk_terminal.options import op_helpers\n",
    "parsed = op_helpers.oi([\"--source\", \"yf\"])\n",
    "\n",
    "#from gamestonk_terminal.options import op_helpers\n",
    "options = yfinance_model.get_option_chain(ticker, selected_date)\n",
    "yfinance_view.plot_oi(options.calls, options.puts, ticker, selected_date, parsed)"
   ]
  },
  {
   "cell_type": "markdown",
   "id": "decreased-foster",
   "metadata": {},
   "source": [
    "## Failure-to-deliver (30 days lag)"
   ]
  },
  {
   "cell_type": "code",
   "execution_count": null,
   "id": "armed-ridge",
   "metadata": {
    "collapsed": true
   },
   "outputs": [],
   "source": [
    "from gamestonk_terminal.stocks import stocks_helper\n",
    "_, _, _, stock = stocks_helper.load([\"-t\", ticker], \"\", \"\", 1440, pd.DataFrame())\n",
    "\n",
    "from gamestonk_terminal.stocks.due_diligence import sec_view\n",
    "sec_view.fails_to_deliver([], ticker.upper(), stock)"
   ]
  },
  {
   "cell_type": "code",
   "execution_count": null,
   "id": "noted-mobile",
   "metadata": {
    "collapsed": true
   },
   "outputs": [],
   "source": [
    "!jupyter nbconvert {os.path.join(\"notebooks\", \"reports\", report_name + \".ipynb\")} --to html --no-input"
   ]
  }
 ],
 "metadata": {
  "celltoolbar": "Tags",
  "kernelspec": {
   "display_name": "Python 3",
   "language": "python",
   "name": "python3"
  },
  "language_info": {
   "codemirror_mode": {
    "name": "ipython",
    "version": 3
   },
   "file_extension": ".py",
   "mimetype": "text/x-python",
   "name": "python",
   "nbconvert_exporter": "python",
   "pygments_lexer": "ipython3",
   "version": "3.6.8"
  }
 },
 "nbformat": 4,
 "nbformat_minor": 5
}

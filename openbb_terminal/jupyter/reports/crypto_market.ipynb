{
 "cells": [
  {
   "cell_type": "code",
   "execution_count": null,
   "id": "elect-highway",
   "metadata": {},
   "outputs": [],
   "source": [
    "# Import most generic modules\n",
    "import os\n",
    "import sys\n",
    "from datetime import datetime\n",
    "from IPython.display import display, Markdown\n",
    "import warnings\n",
    "\n",
    "warnings.filterwarnings(\"ignore\")\n",
    "module_path = os.path.abspath(os.path.join(\"../..\"))\n",
    "\n",
    "if module_path not in sys.path:\n",
    "    sys.path.append(module_path)"
   ]
  },
  {
   "cell_type": "code",
   "execution_count": null,
   "id": "fatty-colony",
   "metadata": {
    "tags": [
     "parameters"
    ]
   },
   "outputs": [],
   "source": [
    "report_name = f\"{datetime.now().strftime('%Y%m%d_%H%M%S')}_crypto_market\""
   ]
  },
  {
   "cell_type": "code",
   "execution_count": null,
   "id": "medieval-majority",
   "metadata": {},
   "outputs": [],
   "source": [
    "display(Markdown(f\"# Crypto Market - {datetime.now().strftime('%Y/%m/%d %H:%M:%S')}\"))"
   ]
  },
  {
   "cell_type": "markdown",
   "id": "basic-sucking",
   "metadata": {},
   "source": [
    "## Bitcoin Chart"
   ]
  },
  {
   "cell_type": "code",
   "execution_count": null,
   "id": "318022a0",
   "metadata": {},
   "outputs": [],
   "source": [
    "from openbb_terminal.cryptocurrency import cryptocurrency_helpers\n",
    "import pandas as pd \n",
    "coin_map_df = (\n",
    "    cryptocurrency_helpers.prepare_all_coins_df().set_index(\"Symbol\").loc[\"btc\"]\n",
    ")\n",
    "\n",
    "coin_map_df = (coin_map_df.dropna().iloc[0] if isinstance(coin_map_df, pd.DataFrame) else coin_map_df)\n",
    "\n",
    "cryptocurrency_helpers.plot_chart(\n",
    "    coin=\"btc-bitcoin\", source=\"cp\", currency=\"USD\", days=60, coin_map_df=coin_map_df\n",
    ")"
   ]
  },
  {
   "cell_type": "markdown",
   "id": "animal-titanium",
   "metadata": {},
   "source": [
    "## Global Market Information"
   ]
  },
  {
   "cell_type": "code",
   "execution_count": null,
   "id": "artistic-stewart",
   "metadata": {},
   "outputs": [],
   "source": [
    "from openbb_terminal.cryptocurrency.overview import coinpaprika_view\n",
    "\n",
    "coinpaprika_view.display_global_market(export=\"\")"
   ]
  },
  {
   "cell_type": "markdown",
   "id": "twelve-visiting",
   "metadata": {},
   "source": [
    "## Top coins market information"
   ]
  },
  {
   "cell_type": "code",
   "execution_count": null,
   "id": "photographic-payday",
   "metadata": {},
   "outputs": [],
   "source": [
    "from openbb_terminal.cryptocurrency.overview import coinpaprika_view\n",
    "\n",
    "coinpaprika_view.display_all_coins_market_info(\n",
    "    currency=\"USD\", sortby=\"volume_24h\", descend=True, top=10, export=\"\"\n",
    ")"
   ]
  },
  {
   "cell_type": "markdown",
   "id": "median-spirituality",
   "metadata": {},
   "source": [
    "## Top gainers in last 24h"
   ]
  },
  {
   "cell_type": "code",
   "execution_count": null,
   "id": "threaded-archives",
   "metadata": {},
   "outputs": [],
   "source": [
    "from openbb_terminal.cryptocurrency.discovery import pycoingecko_view\n",
    "\n",
    "pycoingecko_view.display_gainers(period=\"24h\", top=10, export=\"\")"
   ]
  },
  {
   "cell_type": "markdown",
   "id": "recognized-intent",
   "metadata": {},
   "source": [
    "## Top losers in last 24h"
   ]
  },
  {
   "cell_type": "code",
   "execution_count": null,
   "id": "exceptional-objective",
   "metadata": {},
   "outputs": [],
   "source": [
    "from openbb_terminal.cryptocurrency.discovery import pycoingecko_view\n",
    "\n",
    "pycoingecko_view.display_losers(period=\"24h\", top=10, export=\"\")"
   ]
  },
  {
   "cell_type": "markdown",
   "id": "rough-routine",
   "metadata": {},
   "source": [
    "## Coins trending on coingecko"
   ]
  },
  {
   "cell_type": "code",
   "execution_count": null,
   "id": "matched-syria",
   "metadata": {},
   "outputs": [],
   "source": [
    "from openbb_terminal.cryptocurrency.discovery import pycoingecko_view\n",
    "\n",
    "pycoingecko_view.display_trending(\n",
    "    export=\"\",\n",
    ")"
   ]
  },
  {
   "cell_type": "markdown",
   "id": "established-order",
   "metadata": {},
   "source": [
    "## Decentralized Finance Global Market Info"
   ]
  },
  {
   "cell_type": "code",
   "execution_count": null,
   "id": "artistic-grocery",
   "metadata": {},
   "outputs": [],
   "source": [
    "from openbb_terminal.cryptocurrency.overview import pycoingecko_view\n",
    "\n",
    "pycoingecko_view.display_global_defi_info(export=\"\")"
   ]
  },
  {
   "cell_type": "markdown",
   "id": "elect-universe",
   "metadata": {},
   "source": [
    "## Top DeFi Coins"
   ]
  },
  {
   "cell_type": "code",
   "execution_count": null,
   "id": "configured-macedonia",
   "metadata": {},
   "outputs": [],
   "source": [
    "from openbb_terminal.cryptocurrency.discovery import pycoingecko_view\n",
    "\n",
    "pycoingecko_view.display_coins(\"decentralized-finance-defi\", top=10, export=\"\")"
   ]
  },
  {
   "cell_type": "markdown",
   "id": "comparative-congo",
   "metadata": {},
   "source": [
    "## Top Decentralized Exchanges"
   ]
  },
  {
   "cell_type": "code",
   "execution_count": null,
   "id": "scientific-healthcare",
   "metadata": {},
   "outputs": [],
   "source": [
    "from openbb_terminal.cryptocurrency.discovery import dappradar_view\n",
    "\n",
    "dappradar_view.display_top_dexes(top=10, export=\"\")"
   ]
  },
  {
   "cell_type": "code",
   "execution_count": null,
   "id": "knowing-imagination",
   "metadata": {},
   "outputs": [],
   "source": [
    "!jupyter nbconvert {report_name + '.ipynb'} --to html --no-input"
   ]
  }
 ],
 "metadata": {
  "celltoolbar": "Tags",
  "interpreter": {
   "hash": "158b8ab50e95ded652d8f2b468df64cac8eaa223c5e60f12cdaaeaccc6039b6d"
  },
  "kernelspec": {
   "display_name": "Python 3.8.12 64-bit ('gst': conda)",
   "language": "python",
   "name": "python3"
  },
  "language_info": {
   "codemirror_mode": {
    "name": "ipython",
    "version": 3
   },
   "file_extension": ".py",
   "mimetype": "text/x-python",
   "name": "python",
   "nbconvert_exporter": "python",
   "pygments_lexer": "ipython3",
   "version": "3.9.10"
  }
 },
 "nbformat": 4,
 "nbformat_minor": 5
}

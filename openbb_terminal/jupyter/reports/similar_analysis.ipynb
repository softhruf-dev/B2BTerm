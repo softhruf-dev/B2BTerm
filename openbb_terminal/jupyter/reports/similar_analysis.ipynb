{
 "cells": [
  {
   "cell_type": "markdown",
   "id": "7e02d340-956a-496d-b4e5-fd74cc85f13a",
   "metadata": {},
   "source": [
    "## Notebook setup"
   ]
  },
  {
   "cell_type": "code",
   "execution_count": null,
   "id": "phantom-facility",
   "metadata": {},
   "outputs": [],
   "source": [
    "import io\n",
    "import math\n",
    "import warnings\n",
    "from datetime import datetime, timedelta\n",
    "\n",
    "import matplotlib.pyplot as plt\n",
    "import matplotlib_inline.backend_inline\n",
    "import pandas as pd\n",
    "from tqdm.notebook import tqdm\n",
    "\n",
    "from openbb_terminal import api as openbb\n",
    "from openbb_terminal.helper_classes import TerminalStyle\n",
    "\n",
    "%matplotlib inline\n",
    "matplotlib_inline.backend_inline.set_matplotlib_formats(\"svg\")\n",
    "warnings.filterwarnings(\"ignore\")"
   ]
  },
  {
   "cell_type": "code",
   "execution_count": null,
   "id": "d318a555-d1db-444e-ba8c-8427850dec59",
   "metadata": {},
   "outputs": [],
   "source": [
    "try:\n",
    "    theme = TerminalStyle(\"light\", \"light\", \"light\")\n",
    "except:\n",
    "    pass\n",
    "stylesheet = openbb.widgets.html_report_stylesheet()"
   ]
  },
  {
   "cell_type": "markdown",
   "id": "fa5bd393-2f66-4ba3-98f8-66230636ce0e",
   "metadata": {},
   "source": [
    "## Select Ticker"
   ]
  },
  {
   "cell_type": "code",
   "execution_count": null,
   "id": "compact-count",
   "metadata": {
    "tags": [
     "parameters"
    ]
   },
   "outputs": [],
   "source": [
    "# Parameters that will be replaced when calling this notebook\n",
    "ticker = \"clx\"\n",
    "report_name = f\"{datetime.now().strftime('%Y%m%d_%H%M%S')}_comparison_{ticker.upper()}\""
   ]
  },
  {
   "cell_type": "code",
   "execution_count": null,
   "id": "possible-constraint",
   "metadata": {},
   "outputs": [],
   "source": [
    "ticker = ticker.upper()\n",
    "report_title = (\n",
    "    f\"{ticker.upper()} Comparison ({datetime.now().strftime('%Y-%m-%d %H:%M:%S')})\"\n",
    ")\n",
    "report_title"
   ]
  },
  {
   "cell_type": "code",
   "execution_count": null,
   "id": "b9eaca4a-a46d-45a3-9306-e80e74234f12",
   "metadata": {},
   "outputs": [],
   "source": [
    "finviz_similar = openbb.stocks.ca.models.finviz_compare.get_similar_companies(\n",
    "    ticker, [\"Sector\", \"Industry\", \"Country\"]\n",
    ")[0]\n",
    "finviz_similar.pop(finviz_similar.index(ticker))\n",
    "print(f\"Similar companies:\\n{' '.join([i for i in finviz_similar])}\")"
   ]
  },
  {
   "cell_type": "markdown",
   "id": "135b09f6-c22b-4cc5-b68e-d77f9e3b3a60",
   "metadata": {
    "tags": []
   },
   "source": [
    "### Overview"
   ]
  },
  {
   "cell_type": "code",
   "execution_count": null,
   "id": "9907d7ea-3ad0-4123-ab2e-f03defa4eea2",
   "metadata": {},
   "outputs": [],
   "source": [
    "overview = openbb.stocks.ca.models.finviz_compare.get_comparison_data(\n",
    "    similar=finviz_similar,\n",
    "    data_type=\"overview\",\n",
    ")\n",
    "overview = overview.sort_values(\"Volume\", ascending=False)\n",
    "overview.head(4)"
   ]
  },
  {
   "cell_type": "code",
   "execution_count": null,
   "id": "bc7d52a4-fbe6-4b39-a3d5-bfae841dacac",
   "metadata": {},
   "outputs": [],
   "source": [
    "# Update the list of similar companies to take up only up to 12 with top volume\n",
    "finviz_similar = overview[\"Ticker\"].to_list()[:12]\n",
    "print(f\"Similar companies:\\n{' '.join([i for i in finviz_similar])}\")"
   ]
  },
  {
   "cell_type": "markdown",
   "id": "ffea4266-e801-4a4e-8cac-3d60e735aa4e",
   "metadata": {},
   "source": [
    "### Similar companies and descriptions"
   ]
  },
  {
   "cell_type": "code",
   "execution_count": null,
   "id": "21122245-457b-4347-b89f-d4aabb5bdc9a",
   "metadata": {},
   "outputs": [],
   "source": [
    "def get_info_as_dict(ticker):\n",
    "    df_info = openbb.stocks.fa.models.yahoo_finance.get_info(ticker)\n",
    "    if \"Long business summary\" in df_info.index:\n",
    "        summary = df_info.loc[\"Long business summary\"].values[0]\n",
    "    elif \"Long name\" in df_info.index:\n",
    "        summary = df_info.loc[\"Long name\"].values[0]\n",
    "    else:\n",
    "        summary = \"\"\n",
    "    if \"Website\" in df_info.index:\n",
    "        website = df_info.loc[\"Website\"].values[0]\n",
    "    else:\n",
    "        website = \"\"\n",
    "    return {\"summary\": summary, \"website\": website}\n",
    "\n",
    "\n",
    "similar_companies = dict()\n",
    "similar_companies[ticker] = get_info_as_dict(ticker)\n",
    "\n",
    "if finviz_similar:\n",
    "    for symbol in tqdm(finviz_similar):\n",
    "        similar_companies[symbol] = get_info_as_dict(symbol)"
   ]
  },
  {
   "cell_type": "markdown",
   "id": "temporal-clerk",
   "metadata": {
    "tags": []
   },
   "source": [
    "### Historical prices"
   ]
  },
  {
   "cell_type": "code",
   "execution_count": null,
   "id": "5e7509a7-961a-4fb8-bd87-0df4b8c98d04",
   "metadata": {
    "tags": []
   },
   "outputs": [],
   "source": [
    "for c in tqdm(finviz_similar):\n",
    "    fig, ax = plt.subplots(figsize=(4.2, 3), dpi=150)\n",
    "    openbb.stocks.ca.hist(\n",
    "        normalize=True,\n",
    "        similar_tickers=[ticker, c],\n",
    "        external_axes=[ax],\n",
    "    )\n",
    "    ax.set_title(\"\")\n",
    "    fig.tight_layout()\n",
    "    f = io.BytesIO()\n",
    "    fig.savefig(f, format=\"svg\")\n",
    "    similar_companies[c][\"historical_price\"] = f.getvalue().decode(\"utf-8\")"
   ]
  },
  {
   "cell_type": "markdown",
   "id": "2a07f866-7939-4fb7-8b14-c0701087a8ae",
   "metadata": {},
   "source": [
    "### Historical correlation"
   ]
  },
  {
   "cell_type": "code",
   "execution_count": null,
   "id": "2df60c41-4f87-483c-abe7-7063fa7648cf",
   "metadata": {},
   "outputs": [],
   "source": [
    "fig, ax = plt.subplots(figsize=(9.5, 6), dpi=150)\n",
    "\n",
    "openbb.stocks.ca.hcorr(\n",
    "    similar_tickers=finviz_similar,\n",
    "    external_axes=[ax],\n",
    ")\n",
    "\n",
    "fig.tight_layout()\n",
    "f = io.BytesIO()\n",
    "fig.savefig(f, format=\"svg\")\n",
    "historical_correlation = f.getvalue().decode(\"utf-8\")"
   ]
  },
  {
   "cell_type": "markdown",
   "id": "21005668-7f21-4884-a231-846130695602",
   "metadata": {
    "tags": []
   },
   "source": [
    "### Historical volumes"
   ]
  },
  {
   "cell_type": "code",
   "execution_count": null,
   "id": "f84b055f-ec6d-4b61-89f3-17f06a1ca12d",
   "metadata": {},
   "outputs": [],
   "source": [
    "volume_groups = []\n",
    "for i in range(math.ceil(len(finviz_similar) / 3)):\n",
    "    volume_groups.append(finviz_similar[3 * (i) : 3 * (i + 1)])\n",
    "volume_groups"
   ]
  },
  {
   "cell_type": "code",
   "execution_count": null,
   "id": "8812a2f6-f912-4161-a938-5e2a343d782a",
   "metadata": {},
   "outputs": [],
   "source": [
    "historical_volumes = []\n",
    "for vgroup in volume_groups:\n",
    "    fig, ax = plt.subplots(figsize=(4, 3), dpi=150)\n",
    "    openbb.stocks.ca.volume(\n",
    "        similar_tickers=vgroup,\n",
    "        external_axes=[ax],\n",
    "    )\n",
    "    ax.set_title(\" \".join([i for i in vgroup]))\n",
    "    f = io.BytesIO()\n",
    "    fig.savefig(f, format=\"svg\")\n",
    "    historical_volumes.append(f.getvalue().decode(\"utf-8\"))"
   ]
  },
  {
   "cell_type": "markdown",
   "id": "5277ae24-b7d7-48e6-b46c-fcffdf84631f",
   "metadata": {
    "tags": []
   },
   "source": [
    "### Valuation"
   ]
  },
  {
   "cell_type": "code",
   "execution_count": null,
   "id": "ef50e7ba-70bf-4ffc-b01c-8e28266c13b4",
   "metadata": {},
   "outputs": [],
   "source": [
    "valuation = openbb.stocks.ca.models.finviz_compare.get_comparison_data(\n",
    "    similar=finviz_similar,\n",
    "    data_type=\"valuation\",\n",
    ")\n",
    "valuation.head(4)"
   ]
  },
  {
   "cell_type": "markdown",
   "id": "98030d12-9a77-4f08-b4ad-2c558d9ad225",
   "metadata": {
    "tags": []
   },
   "source": [
    "### Financial"
   ]
  },
  {
   "cell_type": "code",
   "execution_count": null,
   "id": "1fdfac4c-62cd-4bd3-b7df-41ba67263798",
   "metadata": {},
   "outputs": [],
   "source": [
    "financial = openbb.stocks.ca.models.finviz_compare.get_comparison_data(\n",
    "    similar=finviz_similar,\n",
    "    data_type=\"financial\",\n",
    ")\n",
    "financial.head(4)"
   ]
  },
  {
   "cell_type": "markdown",
   "id": "f7cf8774-5162-47ea-8bfe-5005ed2fb9d9",
   "metadata": {
    "tags": []
   },
   "source": [
    "### Ownership"
   ]
  },
  {
   "cell_type": "code",
   "execution_count": null,
   "id": "d3f90d1f-7a40-403f-bf3e-17703e151f4b",
   "metadata": {},
   "outputs": [],
   "source": [
    "ownership = openbb.stocks.ca.models.finviz_compare.get_comparison_data(\n",
    "    similar=finviz_similar,\n",
    "    data_type=\"ownership\",\n",
    ")\n",
    "ownership.head(4)"
   ]
  },
  {
   "cell_type": "markdown",
   "id": "c1833238-5ea8-486b-a6e7-6043e7c0aa0e",
   "metadata": {
    "tags": []
   },
   "source": [
    "### Performance"
   ]
  },
  {
   "cell_type": "code",
   "execution_count": null,
   "id": "62057b47-2364-49ed-80e7-7d6938f2819d",
   "metadata": {},
   "outputs": [],
   "source": [
    "performance = openbb.stocks.ca.models.finviz_compare.get_comparison_data(\n",
    "    similar=finviz_similar,\n",
    "    data_type=\"performance\",\n",
    ")\n",
    "performance.head(4)"
   ]
  },
  {
   "cell_type": "markdown",
   "id": "6d0494c0-e66a-414a-ba2d-89e4072e1a8f",
   "metadata": {
    "tags": []
   },
   "source": [
    "### Technical"
   ]
  },
  {
   "cell_type": "code",
   "execution_count": null,
   "id": "1178a080-83ce-4170-a355-9faa8cf9abe6",
   "metadata": {},
   "outputs": [],
   "source": [
    "technical = openbb.stocks.ca.models.finviz_compare.get_comparison_data(\n",
    "    similar=finviz_similar,\n",
    "    data_type=\"technical\",\n",
    ")\n",
    "technical.head(4)"
   ]
  },
  {
   "cell_type": "markdown",
   "id": "16a5fc9a-0d9b-4589-b680-f954e4e6f78a",
   "metadata": {},
   "source": [
    "## Render the report template to a file"
   ]
  },
  {
   "cell_type": "code",
   "execution_count": null,
   "id": "eebac826-906b-482d-a387-55cb78eb5e18",
   "metadata": {},
   "outputs": [],
   "source": [
    "body = \"\""
   ]
  },
  {
   "cell_type": "code",
   "execution_count": null,
   "id": "26727f90-0950-4434-97f9-6b52180e4473",
   "metadata": {},
   "outputs": [],
   "source": [
    "body += openbb.widgets.h(1, report_title)\n",
    "\n",
    "body += openbb.widgets.h(2, \"Overview\")\n",
    "\n",
    "for company in similar_companies:\n",
    "    if company == ticker:\n",
    "        continue\n",
    "    # widgets.append()\n",
    "    body += openbb.widgets.row(\n",
    "        [\n",
    "            openbb.widgets.h(3, company)\n",
    "            + \"<br>\"\n",
    "            + similar_companies[company][\"website\"]\n",
    "            + \"<br>\"\n",
    "            + \"<br>\"\n",
    "            + similar_companies[company][\"summary\"],\n",
    "            openbb.widgets.h(3, f\"{ticker} vs {company}\")\n",
    "            + similar_companies[company][\"historical_price\"],\n",
    "        ]\n",
    "    )\n",
    "\n",
    "body += openbb.widgets.h(2, \"Historical correlation\")\n",
    "body += openbb.widgets.row([historical_correlation])\n",
    "\n",
    "body += openbb.widgets.h(2, \"Historical volumes\")\n",
    "for chart in range(0, len(historical_volumes), 2):\n",
    "    body += openbb.widgets.row(\n",
    "        [historical_volumes[chart], historical_volumes[chart + 1]]\n",
    "    )\n",
    "\n",
    "\n",
    "body += openbb.widgets.h(2, \"Screeners\")\n",
    "\n",
    "body += openbb.widgets.h(3, \"overview\")\n",
    "body += openbb.widgets.row([overview.to_html()])\n",
    "\n",
    "body += openbb.widgets.h(3, \"valuation\")\n",
    "body += openbb.widgets.row([valuation.to_html()])\n",
    "\n",
    "body += openbb.widgets.h(3, \"financial\")\n",
    "body += openbb.widgets.row([financial.to_html()])\n",
    "\n",
    "body += openbb.widgets.h(3, \"ownership\")\n",
    "body += openbb.widgets.row([ownership.to_html()])\n",
    "\n",
    "body += openbb.widgets.h(3, \"performance\")\n",
    "body += openbb.widgets.row([performance.to_html()])"
   ]
  },
  {
   "cell_type": "code",
   "execution_count": null,
   "id": "f7697fa8-cc27-4bf8-b5e6-ea6ab4ec6a21",
   "metadata": {},
   "outputs": [],
   "source": [
    "report = openbb.widgets.html_report(title=report_name, stylesheet=stylesheet, body=body)"
   ]
  },
  {
   "cell_type": "code",
   "execution_count": null,
   "id": "42e6a584-b7c9-435f-98cb-ea93ac6b8812",
   "metadata": {},
   "outputs": [],
   "source": [
    "# to save the results\n",
    "with open(report_name + \".html\", \"w\") as fh:\n",
    "    fh.write(report)"
   ]
  },
  {
   "cell_type": "code",
   "execution_count": null,
   "id": "6de79d28-fc26-4bf0-bece-f823a424b4fc",
   "metadata": {},
   "outputs": [],
   "source": []
  }
 ],
 "metadata": {
  "celltoolbar": "Tags",
  "kernelspec": {
   "display_name": "Python 3 (ipykernel)",
   "language": "python",
   "name": "python3"
  },
  "language_info": {
   "codemirror_mode": {
    "name": "ipython",
    "version": 3
   },
   "file_extension": ".py",
   "mimetype": "text/x-python",
   "name": "python",
   "nbconvert_exporter": "python",
   "pygments_lexer": "ipython3",
   "version": "3.8.12"
  }
 },
 "nbformat": 4,
 "nbformat_minor": 5
}
